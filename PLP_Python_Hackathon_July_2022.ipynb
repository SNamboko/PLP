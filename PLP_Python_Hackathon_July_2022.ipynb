{
  "nbformat": 4,
  "nbformat_minor": 0,
  "metadata": {
    "colab": {
      "name": "PLP Python Hackathon - July 2022",
      "provenance": [],
      "authorship_tag": "ABX9TyM6gfBpgdZkvH7T2jHwuHuq",
      "include_colab_link": true
    },
    "kernelspec": {
      "name": "python3",
      "display_name": "Python 3"
    },
    "language_info": {
      "name": "python"
    }
  },
  "cells": [
    {
      "cell_type": "markdown",
      "metadata": {
        "id": "view-in-github",
        "colab_type": "text"
      },
      "source": [
        "<a href=\"https://colab.research.google.com/github/SNamboko/PLP/blob/main/PLP_Python_Hackathon_July_2022.ipynb\" target=\"_parent\"><img src=\"https://colab.research.google.com/assets/colab-badge.svg\" alt=\"Open In Colab\"/></a>"
      ]
    },
    {
      "cell_type": "markdown",
      "source": [
        "Bus Fare Challenge – Task One (Day 1)"
      ],
      "metadata": {
        "id": "mY9HTJkpJOIe"
      }
    },
    {
      "cell_type": "code",
      "source": [
        "# Bus Fare Challenge\n",
        "from datetime import date as d\n",
        "Date = d.today()\n",
        "Day = Date.strftime(\"%a\")\n",
        "\n",
        "if Day == \"Sun\":\n",
        "  print(f\"Date: {Date}\\nDay: {Day}\\nFare: 80\")\n",
        "elif Day == \"Sat\":\n",
        "  print(f\"Date: {Date}\\nDay: {Day}\\nFare: 60\")\n",
        "else:\n",
        "  print(f\"Date: {Date}\\nDay: {Day}\\nFare: 100\")  "
      ],
      "metadata": {
        "colab": {
          "base_uri": "https://localhost:8080/"
        },
        "id": "vu9dkajBJ1gW",
        "outputId": "5f71aa61-d72e-4646-afb0-ae8ebbac03a2"
      },
      "execution_count": 3,
      "outputs": [
        {
          "output_type": "stream",
          "name": "stdout",
          "text": [
            "Date: 2022-07-08\n",
            "Day: Fri\n",
            "Fare: 100\n"
          ]
        }
      ]
    },
    {
      "cell_type": "markdown",
      "source": [
        "Sales Tax Challenge – Task Two (Day 1)"
      ],
      "metadata": {
        "id": "BMmCHk4kJgxk"
      }
    },
    {
      "cell_type": "code",
      "source": [
        "# Sales Tax Challenge \n",
        "import math\n",
        "\n",
        "def cost_estimation():\n",
        "  wallspace = int(input(\"Wall-space in square feet: \"))\n",
        "  gallon_price = int(input(\"Price of paint per gallon: \")) \n",
        "\n",
        "  hours = (wallspace * 8) /115\n",
        "  labor_rates = (hours * 20) /8\n",
        "  paint_needed = math.ceil(wallspace /115)\n",
        "  paint_price = gallon_price * paint_needed\n",
        "  total_cost = labor_rates + paint_price\n",
        "\n",
        "  print(f\"Paint required in gallons: {paint_needed}\\n\"\n",
        "        f\"Labor required in hours: {hours}\\n\"\n",
        "        f\"Cost of paint: {paint_price}\\n\"\n",
        "        f\"Labor charges: {labor_rates}\\n\"\n",
        "        f\"Total paint job cost {total_cost}\")\n",
        "cost_estimation()\n",
        "\n",
        "\n",
        "\n"
      ],
      "metadata": {
        "colab": {
          "base_uri": "https://localhost:8080/"
        },
        "id": "nHSs2aHVJrFS",
        "outputId": "053c03c5-0737-4e60-c6c4-dda127d9eb42"
      },
      "execution_count": 26,
      "outputs": [
        {
          "output_type": "stream",
          "name": "stdout",
          "text": [
            "Wall-space in square feet: 100\n",
            "Price of paint per gallon: 20\n",
            "Paint required in gallons: 1\n",
            "Labor required in hours: 6.956521739130435\n",
            "Cost of paint: 20\n",
            "Labor charges: 17.391304347826086\n",
            "Total paint job cost 37.391304347826086\n"
          ]
        }
      ]
    },
    {
      "cell_type": "markdown",
      "source": [
        "Loyalty point reward system"
      ],
      "metadata": {
        "id": "WXeILyq9ZAAo"
      }
    },
    {
      "cell_type": "code",
      "source": [
        "def reward():\n",
        "  books = int(input(\"Books bought this month: \"))\n",
        "\n",
        "  if books <= 1:\n",
        "    print(\"Points accrued: 6 \") \n",
        "  elif books == 2:\n",
        "    print(\"Points accrued: 16 \")\n",
        "  elif books == 3:\n",
        "    print(\"Points accrued: 32 \")\n",
        "  elif books == 4:\n",
        "    print(\"Points accrued: 60 \")\n",
        "  else:\n",
        "    print(\"Maximun books should be 4\")\n",
        "\n",
        "reward()\n"
      ],
      "metadata": {
        "colab": {
          "base_uri": "https://localhost:8080/"
        },
        "id": "ytzpcvCSmKqu",
        "outputId": "8c1c8f2d-babc-4cdc-e9ae-e42da65a5f34"
      },
      "execution_count": 15,
      "outputs": [
        {
          "output_type": "stream",
          "name": "stdout",
          "text": [
            "Books bought this month: 3\n",
            "Points accrued: 32 \n"
          ]
        }
      ]
    }
  ]
}